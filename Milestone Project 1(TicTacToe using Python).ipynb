{
 "cells": [
  {
   "cell_type": "code",
   "execution_count": 1,
   "id": "2af957e8-8d33-4fce-b4cb-c5e4035cb8b8",
   "metadata": {},
   "outputs": [],
   "source": [
    "from IPython.display import clear_output\n",
    "import random\n",
    "import time\n",
    "import sys"
   ]
  },
  {
   "cell_type": "code",
   "execution_count": 2,
   "id": "2e96e767-1222-4b6c-8741-a27f573515ea",
   "metadata": {},
   "outputs": [],
   "source": [
    "def display_board(board):\n",
    "    clear_output()\n",
    "    print(board[1]+'|'+board[2]+'|'+board[3])\n",
    "    print(board[4]+'|'+board[5]+'|'+board[6])\n",
    "    print(board[7]+'|'+board[8]+'|'+board[9])"
   ]
  },
  {
   "cell_type": "code",
   "execution_count": 3,
   "id": "6c362f0e-5ba8-403f-a700-0993aafeaac6",
   "metadata": {},
   "outputs": [],
   "source": [
    "# board = [' ']*10"
   ]
  },
  {
   "cell_type": "code",
   "execution_count": 4,
   "id": "ace28e13-abf5-440e-a3b8-b1ff066f923e",
   "metadata": {},
   "outputs": [],
   "source": [
    "# display_board(board)"
   ]
  },
  {
   "cell_type": "code",
   "execution_count": 5,
   "id": "0b21a99f-0b99-427c-85e0-b03100dbcaeb",
   "metadata": {},
   "outputs": [],
   "source": [
    "def marker_choice():\n",
    "    marker = ''\n",
    "\n",
    "    while marker != 'X' and marker != 'O':\n",
    "        marker = input(\"Choose Your Marker (X or O): \")\n",
    "        # print(marker)\n",
    "\n",
    "    player1_marker = marker\n",
    "    if player1_marker == 'X':\n",
    "        player2_marker = 'O'\n",
    "        print(\"Player 1 Chooses 'X'\")\n",
    "        print(\"Player 2 Is 'O'\")\n",
    "    else:\n",
    "        player2_marker = 'X'\n",
    "        print(\"Player 1 Chooses 'O'\")\n",
    "        print(\"Player 2 is 'X'\")\n",
    "\n",
    "    return (player1_marker, player2_marker)"
   ]
  },
  {
   "cell_type": "code",
   "execution_count": 6,
   "id": "1a67a0a6-000e-4cea-bf4d-cd5f1e71aab9",
   "metadata": {},
   "outputs": [],
   "source": [
    "# marker_choice()"
   ]
  },
  {
   "cell_type": "code",
   "execution_count": 7,
   "id": "dacdc2fd-8880-433e-ae5d-e5f75db087bd",
   "metadata": {},
   "outputs": [],
   "source": [
    "def position(board,player_marker):\n",
    "    pos = 9999\n",
    "    while pos not in range(1,10):\n",
    "        pos = input(\"Choose The Position between 1 to 9: \")\n",
    "        pos = int(pos)\n",
    "         \n",
    "    if board[pos] == ' ' and player_marker == 'X':\n",
    "        board[pos] = 'X'\n",
    "        \n",
    "    elif board[pos] == ' ' and player_marker == 'O':\n",
    "        board[pos] = 'O'\n",
    "        \n",
    "    else:\n",
    "         print(\"Position already occupied!\")\n",
    "         position(board,player_marker)\n",
    "    display_board(board)\n",
    "    return"
   ]
  },
  {
   "cell_type": "code",
   "execution_count": 8,
   "id": "16f2cebf-89c7-4835-9c7a-00d2591ae191",
   "metadata": {},
   "outputs": [],
   "source": [
    "# position(board,'O')"
   ]
  },
  {
   "cell_type": "code",
   "execution_count": 9,
   "id": "2a20bb7c-29fe-4f3a-b955-a33912a12be2",
   "metadata": {},
   "outputs": [],
   "source": [
    "def check_win(board,marker):\n",
    "    return ((board[1]==board[2]==board[3]==marker)\n",
    "    or board[4]==board[5]==board[6]==marker\n",
    "    or board[7]==board[8]==board[9]==marker\n",
    "    or board[1]==board[4]==board[7]==marker\n",
    "    or board[2]==board[5]==board[8]==marker\n",
    "    or board[3]==board[6]==board[9]==marker\n",
    "    or board[1]==board[5]==board[9]==marker\n",
    "    or board[3]==board[5]==board[7]==marker)\n",
    "    "
   ]
  },
  {
   "cell_type": "code",
   "execution_count": 10,
   "id": "d1065792-876e-4759-a23c-c0edabb43eb3",
   "metadata": {},
   "outputs": [],
   "source": [
    "# check_win(board,'O')"
   ]
  },
  {
   "cell_type": "code",
   "execution_count": 11,
   "id": "47d9676c-2d69-4017-8b98-08c25e40dbab",
   "metadata": {},
   "outputs": [],
   "source": [
    "board = ['5','X',' ','5',' ',' ',' ',' ',' ',' ']"
   ]
  },
  {
   "cell_type": "code",
   "execution_count": 12,
   "id": "3c29548a-a017-4636-b2fa-37e89dfaacbc",
   "metadata": {},
   "outputs": [],
   "source": [
    "def check_full(board):\n",
    "    for mark in board:\n",
    "        if mark == ' ':\n",
    "            return False\n",
    "    return True"
   ]
  },
  {
   "cell_type": "code",
   "execution_count": 13,
   "id": "2b50fc5a-61af-4fc5-817d-08bfc09bec9c",
   "metadata": {},
   "outputs": [],
   "source": [
    "# check_full(board)"
   ]
  },
  {
   "cell_type": "code",
   "execution_count": 17,
   "id": "f051513b-3c0c-4761-83d7-7e09c72170ff",
   "metadata": {},
   "outputs": [],
   "source": [
    "def if_tie(board):\n",
    "    board[0] = '#'\n",
    "    if check_full(board):\n",
    "        print(\"It's a TIE !! Well Played!\")\n",
    "        time.sleep(3)\n",
    "        clear_output()\n",
    "        game()\n",
    "    else:\n",
    "        return "
   ]
  },
  {
   "cell_type": "code",
   "execution_count": 18,
   "id": "df2a6617-92ca-4020-b6e7-123a8b62dcb8",
   "metadata": {},
   "outputs": [],
   "source": [
    "def game():\n",
    "    print(\"Welcome to Tic Tac Toe by VALLABH KULKARNI\")\n",
    "    \n",
    "    game_on = input(\"Start New Game ? (Y or N)\")\n",
    "\n",
    "    if game_on=='N':\n",
    "        print(\"Thanks for playing !! Hope you enjoyed it !\")\n",
    "        time.sleep(2)\n",
    "        clear_output()\n",
    "        time.sleep(1)\n",
    "        game()\n",
    "        \n",
    "    else:\n",
    "        print(\"Great ! Let's start the game !\")\n",
    "        print(\"\\n\")\n",
    "        for char in ['.', '..', '...']:\n",
    "            sys.stdout.write(f'\\rLoading{char}')\n",
    "            sys.stdout.flush()\n",
    "            time.sleep(0.5)\n",
    "        \n",
    "        board = [' ']*10\n",
    "        display_board(board)\n",
    "        clear_output()\n",
    "        \n",
    "        while True:\n",
    "            player1_marker, player2_marker = marker_choice()\n",
    "            time.sleep(3)\n",
    "            clear_output()\n",
    "            \n",
    "            count = 0\n",
    "            \n",
    "            while True:\n",
    "                if count == 0:\n",
    "                    print(\"Player \",(count+1),\"'s Turn\")\n",
    "                    time.sleep(2)\n",
    "                    display_board(board)\n",
    "                    position(board,player1_marker)\n",
    "                    \n",
    "                    if check_win(board,player1_marker):\n",
    "                        print(\"Player 1 WON THE GAME !!!\")\n",
    "                        time.sleep(5)\n",
    "                        clear_output()\n",
    "                        game()\n",
    "                        \n",
    "                    else:\n",
    "                        if_tie(board)\n",
    "                        count = 1\n",
    "                        \n",
    "                if count == 1:\n",
    "                    print(\"Player \",(count+1),\"'s Turn\")\n",
    "                    time.sleep(2)\n",
    "                    display_board(board)\n",
    "                    position(board,player2_marker)\n",
    "                    \n",
    "                    if check_win(board,player2_marker):\n",
    "                        print(\"Player 2 WON THE GAME !!!\")\n",
    "                        time.sleep(5)\n",
    "                        clear_output()\n",
    "                        game()\n",
    "                    else:\n",
    "                        if_tie(board)\n",
    "                        count = 0 \n",
    "    return \"Game Crashed\""
   ]
  },
  {
   "cell_type": "code",
   "execution_count": null,
   "id": "dce616c8-530e-4c85-8af5-6011c297eaf1",
   "metadata": {
    "jp-MarkdownHeadingCollapsed": true
   },
   "outputs": [
    {
     "name": "stdout",
     "output_type": "stream",
     "text": [
      "Welcome to Tic Tac Toe by VALLABH KULKARNI\n"
     ]
    }
   ],
   "source": [
    "game()"
   ]
  },
  {
   "cell_type": "code",
   "execution_count": null,
   "id": "219ab291-ef98-4f50-af60-52bdbe50ff75",
   "metadata": {},
   "outputs": [],
   "source": []
  },
  {
   "cell_type": "code",
   "execution_count": null,
   "id": "a9ccf6ac-3261-42fe-8329-4011083fc874",
   "metadata": {},
   "outputs": [],
   "source": []
  }
 ],
 "metadata": {
  "kernelspec": {
   "display_name": "Python 3 (ipykernel)",
   "language": "python",
   "name": "python3"
  },
  "language_info": {
   "codemirror_mode": {
    "name": "ipython",
    "version": 3
   },
   "file_extension": ".py",
   "mimetype": "text/x-python",
   "name": "python",
   "nbconvert_exporter": "python",
   "pygments_lexer": "ipython3",
   "version": "3.11.5"
  }
 },
 "nbformat": 4,
 "nbformat_minor": 5
}
